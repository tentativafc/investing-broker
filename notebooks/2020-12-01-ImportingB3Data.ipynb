{
 "cells": [
  {
   "cell_type": "code",
   "execution_count": 1,
   "metadata": {},
   "outputs": [],
   "source": [
    "from scrapers.B3Scraper import B3Scraper"
   ]
  },
  {
   "cell_type": "code",
   "execution_count": 2,
   "metadata": {},
   "outputs": [
    {
     "name": "stderr",
     "output_type": "stream",
     "text": [
      "2020-12-01 22:52:29,595 - Bolsa - INFO - Importing B3 Quotations of year 2007...\n",
      "2020-12-01 22:52:29,648 - Bolsa - INFO - File already exists.\n",
      "2020-12-01 22:52:29,649 - Bolsa - INFO - Importing B3 Quotations of year 2008...\n",
      "2020-12-01 22:52:29,781 - Bolsa - INFO - File already exists.\n",
      "2020-12-01 22:52:29,782 - Bolsa - INFO - Importing B3 Quotations of year 2009...\n",
      "2020-12-01 22:52:29,835 - Bolsa - INFO - File already exists.\n",
      "2020-12-01 22:52:29,837 - Bolsa - INFO - Importing B3 Quotations of year 2010...\n",
      "2020-12-01 22:52:29,896 - Bolsa - INFO - File already exists.\n",
      "2020-12-01 22:52:29,896 - Bolsa - INFO - Importing B3 Quotations of year 2011...\n",
      "2020-12-01 22:52:30,025 - Bolsa - INFO - File already exists.\n",
      "2020-12-01 22:52:30,025 - Bolsa - INFO - Importing B3 Quotations of year 2012...\n",
      "2020-12-01 22:52:30,077 - Bolsa - INFO - File already exists.\n",
      "2020-12-01 22:52:30,078 - Bolsa - INFO - Importing B3 Quotations of year 2013...\n",
      "2020-12-01 22:52:30,190 - Bolsa - INFO - File already exists.\n",
      "2020-12-01 22:52:30,190 - Bolsa - INFO - Importing B3 Quotations of year 2014...\n",
      "2020-12-01 22:52:30,329 - Bolsa - INFO - File already exists.\n",
      "2020-12-01 22:52:30,331 - Bolsa - INFO - Importing B3 Quotations of year 2015...\n",
      "2020-12-01 22:52:30,427 - Bolsa - INFO - File already exists.\n",
      "2020-12-01 22:52:30,428 - Bolsa - INFO - Importing B3 Quotations of year 2016...\n",
      "2020-12-01 22:52:30,470 - Bolsa - INFO - File already exists.\n",
      "2020-12-01 22:52:30,471 - Bolsa - INFO - Importing B3 Quotations of year 2017...\n",
      "2020-12-01 22:52:30,521 - Bolsa - INFO - File already exists.\n",
      "2020-12-01 22:52:30,523 - Bolsa - INFO - Importing B3 Quotations of year 2018...\n",
      "2020-12-01 22:52:30,574 - Bolsa - INFO - File already exists.\n",
      "2020-12-01 22:52:30,575 - Bolsa - INFO - Importing B3 Quotations of year 2019...\n",
      "2020-12-01 22:52:30,684 - Bolsa - INFO - File already exists.\n"
     ]
    },
    {
     "ename": "BadZipFile",
     "evalue": "File is not a zip file",
     "output_type": "error",
     "traceback": [
      "\u001b[1;31m---------------------------------------------------------------------------\u001b[0m",
      "\u001b[1;31mBadZipFile\u001b[0m                                Traceback (most recent call last)",
      "\u001b[1;32m<ipython-input-2-a7fc4d106f2d>\u001b[0m in \u001b[0;36m<module>\u001b[1;34m\u001b[0m\n\u001b[0;32m      2\u001b[0m \u001b[1;32mfor\u001b[0m \u001b[0myear\u001b[0m \u001b[1;32min\u001b[0m \u001b[0mrange\u001b[0m\u001b[1;33m(\u001b[0m\u001b[1;36m2007\u001b[0m\u001b[1;33m,\u001b[0m \u001b[1;36m2020\u001b[0m\u001b[1;33m)\u001b[0m\u001b[1;33m:\u001b[0m\u001b[1;33m\u001b[0m\u001b[1;33m\u001b[0m\u001b[0m\n\u001b[0;32m      3\u001b[0m     \u001b[0mb3Scraper\u001b[0m\u001b[1;33m.\u001b[0m\u001b[0mimport_by_year\u001b[0m\u001b[1;33m(\u001b[0m\u001b[0myear\u001b[0m\u001b[1;33m)\u001b[0m\u001b[1;33m\u001b[0m\u001b[1;33m\u001b[0m\u001b[0m\n\u001b[1;32m----> 4\u001b[1;33m \u001b[0mb3Scraper\u001b[0m\u001b[1;33m.\u001b[0m\u001b[0munzip_scraped_files\u001b[0m\u001b[1;33m(\u001b[0m\u001b[1;33m)\u001b[0m\u001b[1;33m\u001b[0m\u001b[1;33m\u001b[0m\u001b[0m\n\u001b[0m\u001b[0;32m      5\u001b[0m \u001b[0mb3Scraper\u001b[0m\u001b[1;33m.\u001b[0m\u001b[0mslice_files\u001b[0m\u001b[1;33m(\u001b[0m\u001b[1;33m)\u001b[0m\u001b[1;33m\u001b[0m\u001b[1;33m\u001b[0m\u001b[0m\n",
      "\u001b[1;32mc:\\users\\tenta\\documents\\projetos\\investing-broker\\ortisan-investing-lib\\scrapers\\B3Scraper.py\u001b[0m in \u001b[0;36munzip_scraped_files\u001b[1;34m(self)\u001b[0m\n\u001b[0;32m     63\u001b[0m         \u001b[0mdir_bovespa_zip_files\u001b[0m \u001b[1;33m=\u001b[0m \u001b[1;34m'{0}/COTAHIST*.zip'\u001b[0m\u001b[1;33m.\u001b[0m\u001b[0mformat\u001b[0m\u001b[1;33m(\u001b[0m\u001b[0mconfigs\u001b[0m\u001b[1;33m.\u001b[0m\u001b[0mget_temp_data_dir\u001b[0m\u001b[1;33m(\u001b[0m\u001b[1;33m)\u001b[0m\u001b[1;33m)\u001b[0m\u001b[1;33m\u001b[0m\u001b[1;33m\u001b[0m\u001b[0m\n\u001b[0;32m     64\u001b[0m         \u001b[1;32mfor\u001b[0m \u001b[0mfile\u001b[0m \u001b[1;32min\u001b[0m \u001b[0mglob\u001b[0m\u001b[1;33m.\u001b[0m\u001b[0mglob\u001b[0m\u001b[1;33m(\u001b[0m\u001b[0mdir_bovespa_zip_files\u001b[0m\u001b[1;33m)\u001b[0m\u001b[1;33m:\u001b[0m\u001b[1;33m\u001b[0m\u001b[1;33m\u001b[0m\u001b[0m\n\u001b[1;32m---> 65\u001b[1;33m             \u001b[0mzip_ref\u001b[0m \u001b[1;33m=\u001b[0m \u001b[0mzipfile\u001b[0m\u001b[1;33m.\u001b[0m\u001b[0mZipFile\u001b[0m\u001b[1;33m(\u001b[0m\u001b[0mfile\u001b[0m\u001b[1;33m,\u001b[0m \u001b[1;34m'r'\u001b[0m\u001b[1;33m)\u001b[0m\u001b[1;33m\u001b[0m\u001b[1;33m\u001b[0m\u001b[0m\n\u001b[0m\u001b[0;32m     66\u001b[0m             \u001b[0mzip_ref\u001b[0m\u001b[1;33m.\u001b[0m\u001b[0mextractall\u001b[0m\u001b[1;33m(\u001b[0m\u001b[0mconfigs\u001b[0m\u001b[1;33m.\u001b[0m\u001b[0mget_raw_data_dir\u001b[0m\u001b[1;33m(\u001b[0m\u001b[1;33m)\u001b[0m\u001b[1;33m)\u001b[0m\u001b[1;33m\u001b[0m\u001b[1;33m\u001b[0m\u001b[0m\n\u001b[0;32m     67\u001b[0m             \u001b[0mzip_ref\u001b[0m\u001b[1;33m.\u001b[0m\u001b[0mclose\u001b[0m\u001b[1;33m(\u001b[0m\u001b[1;33m)\u001b[0m\u001b[1;33m\u001b[0m\u001b[1;33m\u001b[0m\u001b[0m\n",
      "\u001b[1;32mc:\\users\\tenta\\.conda\\envs\\investing-broker\\lib\\zipfile.py\u001b[0m in \u001b[0;36m__init__\u001b[1;34m(self, file, mode, compression, allowZip64)\u001b[0m\n\u001b[0;32m   1129\u001b[0m         \u001b[1;32mtry\u001b[0m\u001b[1;33m:\u001b[0m\u001b[1;33m\u001b[0m\u001b[1;33m\u001b[0m\u001b[0m\n\u001b[0;32m   1130\u001b[0m             \u001b[1;32mif\u001b[0m \u001b[0mmode\u001b[0m \u001b[1;33m==\u001b[0m \u001b[1;34m'r'\u001b[0m\u001b[1;33m:\u001b[0m\u001b[1;33m\u001b[0m\u001b[1;33m\u001b[0m\u001b[0m\n\u001b[1;32m-> 1131\u001b[1;33m                 \u001b[0mself\u001b[0m\u001b[1;33m.\u001b[0m\u001b[0m_RealGetContents\u001b[0m\u001b[1;33m(\u001b[0m\u001b[1;33m)\u001b[0m\u001b[1;33m\u001b[0m\u001b[1;33m\u001b[0m\u001b[0m\n\u001b[0m\u001b[0;32m   1132\u001b[0m             \u001b[1;32melif\u001b[0m \u001b[0mmode\u001b[0m \u001b[1;32min\u001b[0m \u001b[1;33m(\u001b[0m\u001b[1;34m'w'\u001b[0m\u001b[1;33m,\u001b[0m \u001b[1;34m'x'\u001b[0m\u001b[1;33m)\u001b[0m\u001b[1;33m:\u001b[0m\u001b[1;33m\u001b[0m\u001b[1;33m\u001b[0m\u001b[0m\n\u001b[0;32m   1133\u001b[0m                 \u001b[1;31m# set the modified flag so central directory gets written\u001b[0m\u001b[1;33m\u001b[0m\u001b[1;33m\u001b[0m\u001b[1;33m\u001b[0m\u001b[0m\n",
      "\u001b[1;32mc:\\users\\tenta\\.conda\\envs\\investing-broker\\lib\\zipfile.py\u001b[0m in \u001b[0;36m_RealGetContents\u001b[1;34m(self)\u001b[0m\n\u001b[0;32m   1196\u001b[0m             \u001b[1;32mraise\u001b[0m \u001b[0mBadZipFile\u001b[0m\u001b[1;33m(\u001b[0m\u001b[1;34m\"File is not a zip file\"\u001b[0m\u001b[1;33m)\u001b[0m\u001b[1;33m\u001b[0m\u001b[1;33m\u001b[0m\u001b[0m\n\u001b[0;32m   1197\u001b[0m         \u001b[1;32mif\u001b[0m \u001b[1;32mnot\u001b[0m \u001b[0mendrec\u001b[0m\u001b[1;33m:\u001b[0m\u001b[1;33m\u001b[0m\u001b[1;33m\u001b[0m\u001b[0m\n\u001b[1;32m-> 1198\u001b[1;33m             \u001b[1;32mraise\u001b[0m \u001b[0mBadZipFile\u001b[0m\u001b[1;33m(\u001b[0m\u001b[1;34m\"File is not a zip file\"\u001b[0m\u001b[1;33m)\u001b[0m\u001b[1;33m\u001b[0m\u001b[1;33m\u001b[0m\u001b[0m\n\u001b[0m\u001b[0;32m   1199\u001b[0m         \u001b[1;32mif\u001b[0m \u001b[0mself\u001b[0m\u001b[1;33m.\u001b[0m\u001b[0mdebug\u001b[0m \u001b[1;33m>\u001b[0m \u001b[1;36m1\u001b[0m\u001b[1;33m:\u001b[0m\u001b[1;33m\u001b[0m\u001b[1;33m\u001b[0m\u001b[0m\n\u001b[0;32m   1200\u001b[0m             \u001b[0mprint\u001b[0m\u001b[1;33m(\u001b[0m\u001b[0mendrec\u001b[0m\u001b[1;33m)\u001b[0m\u001b[1;33m\u001b[0m\u001b[1;33m\u001b[0m\u001b[0m\n",
      "\u001b[1;31mBadZipFile\u001b[0m: File is not a zip file"
     ]
    }
   ],
   "source": [
    "b3Scraper = B3Scraper()\n",
    "for year in range(2007, 2020):\n",
    "    b3Scraper.import_by_year(year)\n",
    "# b3Scraper.unzip_scraped_files()\n",
    "# b3Scraper.slice_files()"
   ]
  },
  {
   "cell_type": "code",
   "execution_count": 3,
   "metadata": {},
   "outputs": [],
   "source": [
    "from data_importer.B3AssetsDataImporter import B3AssetsDataImporter"
   ]
  },
  {
   "cell_type": "code",
   "execution_count": 4,
   "metadata": {},
   "outputs": [
    {
     "name": "stderr",
     "output_type": "stream",
     "text": [
      "2020-12-01 22:52:52,668 - Bolsa - INFO - Processing file:C:/Users/tenta/Documents/Projetos/investing-broker/data/bovespa/slices\\COTAHIST_A2008.TXT.1000\n",
      "2020-12-01 22:52:52,672 - Bolsa - INFO - Processing file C:/Users/tenta/Documents/Projetos/investing-broker/data/bovespa/slices\\COTAHIST_A2008.TXT.1000 ...\n",
      "c:\\users\\tenta\\documents\\projetos\\investing-broker\\ortisan-investing-lib\\data_importer\\B3AssetsDataImporter.py:99: FutureWarning: The pandas.datetime class is deprecated and will be removed from pandas in a future version. Import from datetime instead.\n",
      "  parse_dates=['DTPREG'], date_parser=lambda dt: pd.datetime.strptime(dt, '%Y%m%d'))\n",
      "2020-12-01 22:52:53,818 - Bolsa - INFO - Processing file:C:/Users/tenta/Documents/Projetos/investing-broker/data/bovespa/slices\\COTAHIST_A2008.TXT.10000\n",
      "2020-12-01 22:52:53,819 - Bolsa - INFO - Processing file C:/Users/tenta/Documents/Projetos/investing-broker/data/bovespa/slices\\COTAHIST_A2008.TXT.10000 ...\n",
      "2020-12-01 22:52:54,855 - Bolsa - INFO - Processing file:C:/Users/tenta/Documents/Projetos/investing-broker/data/bovespa/slices\\COTAHIST_A2008.TXT.100000\n",
      "2020-12-01 22:52:54,856 - Bolsa - INFO - Processing file C:/Users/tenta/Documents/Projetos/investing-broker/data/bovespa/slices\\COTAHIST_A2008.TXT.100000 ...\n",
      "2020-12-01 22:52:55,786 - Bolsa - INFO - Processing file:C:/Users/tenta/Documents/Projetos/investing-broker/data/bovespa/slices\\COTAHIST_A2008.TXT.101000\n",
      "2020-12-01 22:52:55,786 - Bolsa - INFO - Processing file C:/Users/tenta/Documents/Projetos/investing-broker/data/bovespa/slices\\COTAHIST_A2008.TXT.101000 ...\n",
      "2020-12-01 22:52:56,732 - Bolsa - INFO - Processing file:C:/Users/tenta/Documents/Projetos/investing-broker/data/bovespa/slices\\COTAHIST_A2008.TXT.102000\n",
      "2020-12-01 22:52:56,733 - Bolsa - INFO - Processing file C:/Users/tenta/Documents/Projetos/investing-broker/data/bovespa/slices\\COTAHIST_A2008.TXT.102000 ...\n"
     ]
    }
   ],
   "source": [
    "b3Importer = B3AssetsDataImporter()\n",
    "b3Importer.process()"
   ]
  },
  {
   "cell_type": "code",
   "execution_count": null,
   "metadata": {},
   "outputs": [],
   "source": []
  }
 ],
 "metadata": {
  "kernelspec": {
   "display_name": "Python 3",
   "language": "python",
   "name": "python3"
  },
  "language_info": {
   "codemirror_mode": {
    "name": "ipython",
    "version": 3
   },
   "file_extension": ".py",
   "mimetype": "text/x-python",
   "name": "python",
   "nbconvert_exporter": "python",
   "pygments_lexer": "ipython3",
   "version": "3.6.12"
  }
 },
 "nbformat": 4,
 "nbformat_minor": 4
}
